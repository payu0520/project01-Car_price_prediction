{
 "cells": [
  {
   "cell_type": "code",
   "execution_count": null,
   "id": "9d9d6201-43bb-468f-bb2f-e3154fbefc61",
   "metadata": {},
   "outputs": [],
   "source": [
    "# importing Libraries\n",
    "\n",
    "import numpy as np\n",
    "import pandas as pd\n",
    "import warnings\n",
    "warnings.filterwarnings('ignore')"
   ]
  },
  {
   "cell_type": "code",
   "execution_count": null,
   "id": "04fcb2a7-290b-4b61-ad68-76163babb2c5",
   "metadata": {},
   "outputs": [],
   "source": [
    "# Importing and reading dataset\n",
    "\n",
    "ds= pd.read_csv(\"new_cleaned_data.csv\")\n",
    "ds"
   ]
  },
  {
   "cell_type": "code",
   "execution_count": null,
   "id": "3a641c76-f2a8-42a1-b4de-1fb821983ab8",
   "metadata": {},
   "outputs": [],
   "source": [
    "X=ds[['company','name','year','kms_driven','fuel_type']]\n",
    "y=ds[['Price']]"
   ]
  },
  {
   "cell_type": "code",
   "execution_count": null,
   "id": "22d29373-1ed6-4745-93ce-892b74a09f69",
   "metadata": {},
   "outputs": [],
   "source": [
    "# Implementing OneHotcoder\n",
    "\n",
    "from sklearn.preprocessing import OneHotEncoder\n",
    "from sklearn.compose import make_column_transformer\n",
    "ohe=OneHotEncoder()\n",
    "ohe.fit(X[[\"company\",\"name\",\"fuel_type\"]])"
   ]
  },
  {
   "cell_type": "code",
   "execution_count": null,
   "id": "20a2819e-b7fe-4a36-b5ae-44a53e26425b",
   "metadata": {},
   "outputs": [],
   "source": [
    "ct=make_column_transformer((OneHotEncoder(handle_unknown = 'ignore',categories=ohe.categories_), [\"company\",\"name\",\"fuel_type\"]),remainder='passthrough',force_int_remainder_cols=False, sparse_threshold = 0)\n",
    "ct"
   ]
  },
  {
   "cell_type": "code",
   "execution_count": null,
   "id": "a2964a6c-bf5b-4da0-aa27-7baccd8e9563",
   "metadata": {},
   "outputs": [],
   "source": [
    "# making pipeline\n",
    "\n",
    "from sklearn.linear_model import LinearRegression\n",
    "from sklearn.pipeline import make_pipeline\n",
    "from sklearn.model_selection import train_test_split\n",
    "from sklearn.metrics import r2_score,mean_squared_error\n",
    "from sklearn.tree import DecisionTreeRegressor\n",
    "from sklearn.ensemble import RandomForestRegressor\n",
    "\n",
    "reg=LinearRegression()\n",
    "regDec = DecisionTreeRegressor(random_state = 0)\n",
    "regRFR = RandomForestRegressor(n_estimators =10, random_state= 0)\n",
    "\n",
    "pipeLinear = make_pipeline(ct, reg)\n",
    "pipeDec = make_pipeline(ct, regDec)\n",
    "pipeRFR = make_pipeline(ct, regRFR)\n",
    "\n",
    "scores = []\n",
    "for i in range(0,101):\n",
    "    X_train,X_test,y_train,y_test = train_test_split(X,y,test_size=0.10,random_state=i)\n",
    "    pipeLinear.fit(X_train,y_train)\n",
    "    pipeDec.fit(X_train,y_train)\n",
    "    pipeRFR.fit(X_train,y_train)\n",
    "\n",
    "    result = pipeLinear.predict(X_test)\n",
    "    scoreLinear = r2_score(y_test, result)\n",
    "    rmseLinear = np.sqrt(mean_squared_error(y_test, result))\n",
    "    \n",
    "    result = pipeDec.predict(X_test)\n",
    "    scoreDec = r2_score(y_test, result)\n",
    "    rmseDec = np.sqrt(mean_squared_error(y_test, result))\n",
    "    result = pipeRFR.predict(X_test)\n",
    "    scoreRFR = r2_score(y_test, result)\n",
    "    rmseRFR = np.sqrt(mean_squared_error(y_test, result))\n",
    "    \n",
    "    \n",
    "    scores.append(('Linear',i, scoreLinear,rmseLinear))\n",
    "    scores.append(('Decision',i, scoreDec, rmseDec ))\n",
    "    scores.append(('Random Forest',i, scoreRFR, rmseRFR ))"
   ]
  },
  {
   "cell_type": "code",
   "execution_count": null,
   "id": "8e0e32e3-dfd4-4fa5-91a2-54e7637889d2",
   "metadata": {},
   "outputs": [],
   "source": [
    "# Finding best r2 score and RMSE score\n",
    "\n",
    "scoreDF = pd.DataFrame(data = scores, columns = [\"algo\", \"Iteration\", \"R2 score\", \"RMSE Score\"])\n",
    "resultDF = scoreDF.sort_values(by=\"R2 score\", ascending = False)\n",
    "resultDF\n",
    "# r2 score must be maximum and RMSE score must be minimum"
   ]
  },
  {
   "cell_type": "code",
   "execution_count": null,
   "id": "89cf71a6-b70c-4a28-b195-e3e5f9d9c450",
   "metadata": {},
   "outputs": [],
   "source": [
    "# Making Pipeline for best suited algorithm(Decision tree) \n",
    "\n",
    "X_train,X_test,y_train,y_test = train_test_split(X,y,test_size=0.10,random_state=79)\n",
    "pipeDec.fit(X_train,y_train)"
   ]
  },
  {
   "cell_type": "code",
   "execution_count": null,
   "id": "b82aa63c-55bb-4341-9a5a-f0a29e1c40ce",
   "metadata": {},
   "outputs": [],
   "source": [
    "# predict for my_input\n",
    "\n",
    "company=input(\"enter company name : \")\n",
    "name=input(\"enter car name : \")\n",
    "year=int(input(\"enter year : \"))\n",
    "kms_driven=int(input(\"enter kms driven : \"))\n",
    "fuel_type=input(\"enter fuel type : \")\n",
    "columns=[\"company\",\"name\",\"year\",\"kms_driven\",\"fuel_type\"]\n",
    "myinput=pd.DataFrame(columns=columns,data=[[company,name,year,kms_driven,fuel_type]])\n",
    "result=pipeDec.predict(myinput)\n",
    "print(\"You should buy it for ~ price : \",result)"
   ]
  },
  {
   "cell_type": "code",
   "execution_count": null,
   "id": "a19cb37e-5d44-4c78-8541-05a3ade367a1",
   "metadata": {},
   "outputs": [],
   "source": [
    "# Importing to pkl\n",
    "\n",
    "import pickle as pkl\n",
    "pkl.dump(pipeRFR, open(\"CarProjectUsing_other_algos.pkl\",\"wb\"))"
   ]
  },
  {
   "cell_type": "code",
   "execution_count": null,
   "id": "8e5e7a72-a335-468d-a64c-783c72a3e5ed",
   "metadata": {},
   "outputs": [],
   "source": []
  }
 ],
 "metadata": {
  "kernelspec": {
   "display_name": "Python [conda env:base] *",
   "language": "python",
   "name": "conda-base-py"
  },
  "language_info": {
   "codemirror_mode": {
    "name": "ipython",
    "version": 3
   },
   "file_extension": ".py",
   "mimetype": "text/x-python",
   "name": "python",
   "nbconvert_exporter": "python",
   "pygments_lexer": "ipython3",
   "version": "3.12.7"
  }
 },
 "nbformat": 4,
 "nbformat_minor": 5
}
