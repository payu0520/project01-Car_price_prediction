{
 "cells": [
  {
   "cell_type": "code",
   "execution_count": null,
   "id": "f561bd61-23ce-472a-a892-043e14c15808",
   "metadata": {},
   "outputs": [],
   "source": [
    "# Importing libraries\n",
    "\n",
    "import numpy as np\n",
    "import pandas as pd"
   ]
  },
  {
   "cell_type": "code",
   "execution_count": null,
   "id": "75ed376d-53d4-4c3d-8e7e-a946d8784baa",
   "metadata": {},
   "outputs": [],
   "source": [
    "# Importing and Reading data\n",
    "\n",
    "ds=pd.read_csv(\"new_cleaned_data.csv\")\n",
    "ds = ds.loc[:, ~ds.columns.str.contains('^Unnamed')]                # removing unnamed column\n",
    "ds"
   ]
  },
  {
   "cell_type": "code",
   "execution_count": null,
   "id": "0d2b03b8-9111-40e3-8a99-b87e14bcb7cd",
   "metadata": {},
   "outputs": [],
   "source": [
    "ds.info()"
   ]
  },
  {
   "cell_type": "code",
   "execution_count": null,
   "id": "0042648e-42a5-4f43-a04f-13c9a9ac00f0",
   "metadata": {},
   "outputs": [],
   "source": [
    "# Splitting data into independent and dependent variables\n",
    "\n",
    "X=ds[['company','name','year','kms_driven','fuel_type']]\n",
    "y=ds[['Price']]"
   ]
  },
  {
   "cell_type": "code",
   "execution_count": null,
   "id": "0c87490b-d712-4ee8-a7c3-747242ca7068",
   "metadata": {},
   "outputs": [],
   "source": [
    "print(len(ds['company'].unique()))\n",
    "print(len(ds['name'].unique()))\n",
    "print(len(ds['fuel_type'].unique()))\n"
   ]
  },
  {
   "cell_type": "code",
   "execution_count": null,
   "id": "77ba7dfc-886e-4780-8b60-f5bf9ef6ec09",
   "metadata": {},
   "outputs": [],
   "source": [
    "# implement OneHotEncoder\n",
    "\n",
    "from sklearn.preprocessing import OneHotEncoder\n",
    "from sklearn.compose import make_column_transformer\n",
    "ohe=OneHotEncoder()\n",
    "ohe.fit(X[[\"company\",\"name\",\"fuel_type\"]])"
   ]
  },
  {
   "cell_type": "code",
   "execution_count": null,
   "id": "907cf4f6-39ce-4252-b7df-cbbcb878e9d8",
   "metadata": {},
   "outputs": [],
   "source": [
    "ohe.categories_"
   ]
  },
  {
   "cell_type": "code",
   "execution_count": null,
   "id": "4b69b17e-7857-48c5-ae93-9ed6ad4b4f6c",
   "metadata": {},
   "outputs": [],
   "source": [
    "ct = make_column_transformer((OneHotEncoder(handle_unknown = 'ignore',categories=ohe.categories_), [\"company\",\"name\",\"fuel_type\"]),remainder='passthrough',force_int_remainder_cols=False,sparse_threshold = 0)\n",
    "ct"
   ]
  },
  {
   "cell_type": "code",
   "execution_count": null,
   "id": "b1c629f6-9e25-4e1f-98a0-4f9b2518c080",
   "metadata": {},
   "outputs": [],
   "source": [
    "# making pipeline\n",
    "\n",
    "from sklearn.linear_model import LinearRegression\n",
    "reg=LinearRegression()"
   ]
  },
  {
   "cell_type": "code",
   "execution_count": null,
   "id": "2ef06d70-6966-4e2f-8a0e-4172e064afde",
   "metadata": {},
   "outputs": [],
   "source": [
    "from sklearn.pipeline import make_pipeline\n",
    "pipe = make_pipeline(ct,reg)\n",
    "pipe"
   ]
  },
  {
   "cell_type": "code",
   "execution_count": null,
   "id": "41baf185-dbde-48cd-9b2f-8aaed87ffcab",
   "metadata": {},
   "outputs": [],
   "source": [
    "# Splitting dataset into training and testing\n",
    "\n",
    "from sklearn.model_selection import train_test_split\n",
    "from sklearn.metrics import r2_score\n",
    "scores = []\n",
    "for i in range(0,101):\n",
    "    X_train,X_test,y_train,y_test = train_test_split(X,y,test_size=0.10,random_state= i)\n",
    "    pipe.fit(X_train,y_train)\n",
    "    result=pipe.predict(X_test)\n",
    "    score = r2_score(y_test,result)\n",
    "    scores.append(score)"
   ]
  },
  {
   "cell_type": "code",
   "execution_count": null,
   "id": "1364b2de-13c5-4981-9ce4-eab46db1ab89",
   "metadata": {},
   "outputs": [],
   "source": [
    "# Finding best value\n",
    "\n",
    "bestindex = np.argmax(scores)\n",
    "scores[bestindex]"
   ]
  },
  {
   "cell_type": "code",
   "execution_count": null,
   "id": "98c0dd85-ff73-4124-9174-851b0cc89520",
   "metadata": {},
   "outputs": [],
   "source": [
    "X_train,X_test,y_train,y_test = train_test_split(X,y,test_size=0.10,random_state=bestindex)\n",
    "pipe.fit(X_train,y_train)"
   ]
  },
  {
   "cell_type": "code",
   "execution_count": null,
   "id": "62a27fd9-08c8-4cd7-8749-4285b737257e",
   "metadata": {},
   "outputs": [
    {
     "name": "stdin",
     "output_type": "stream",
     "text": [
      "enter company name :  Honda\n",
      "enter car name :  Amaze\n",
      "enter year :  2013\n",
      "enter kms driven :  284999\n",
      "enter fuel type :  46000\n"
     ]
    }
   ],
   "source": [
    "# predict for user_input\n",
    "\n",
    "company=input(\"enter company name : \")\n",
    "name=input(\"enter car name : \")\n",
    "year=int(input(\"enter year : \"))\n",
    "kms_driven=int(input(\"enter kms driven : \"))\n",
    "fuel_type=input(\"enter fuel type : \")\n",
    "columns=[\"company\",\"name\",\"year\",\"kms_driven\",\"fuel_type\"]\n",
    "myinput=pd.DataFrame(columns=columns,data=[[company,name,year,kms_driven,fuel_type]])\n",
    "result=pipe.predict(myinput)\n",
    "print(\"You should buy it for ~ price : \",abs(round(result[0,0])))"
   ]
  },
  {
   "cell_type": "code",
   "execution_count": null,
   "id": "42394968-1f32-456d-88a1-104a8110831d",
   "metadata": {},
   "outputs": [],
   "source": [
    "import pickle as pkl"
   ]
  },
  {
   "cell_type": "code",
   "execution_count": null,
   "id": "66e82053-e47f-4be1-a7ac-d02ccd1cabb2",
   "metadata": {},
   "outputs": [],
   "source": []
  }
 ],
 "metadata": {
  "kernelspec": {
   "display_name": "Python [conda env:base] *",
   "language": "python",
   "name": "conda-base-py"
  },
  "language_info": {
   "codemirror_mode": {
    "name": "ipython",
    "version": 3
   },
   "file_extension": ".py",
   "mimetype": "text/x-python",
   "name": "python",
   "nbconvert_exporter": "python",
   "pygments_lexer": "ipython3",
   "version": "3.12.7"
  }
 },
 "nbformat": 4,
 "nbformat_minor": 5
}
